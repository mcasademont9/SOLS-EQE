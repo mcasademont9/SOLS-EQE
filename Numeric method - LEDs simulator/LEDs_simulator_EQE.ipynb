{
 "cells": [
  {
   "cell_type": "code",
   "execution_count": 1,
   "metadata": {},
   "outputs": [],
   "source": [
    "import os\n",
    "import matplotlib.pyplot as plt\n",
    "import numpy as np\n",
    "from scipy import interpolate, linalg, optimize, sparse\n",
    "import statistics\n",
    "from ipywidgets import interact, interactive, fixed, interact_manual\n",
    "import ipywidgets as widgets\n",
    "import numpy.polynomial\n",
    "import pandas as pd"
   ]
  },
  {
   "cell_type": "code",
   "execution_count": 2,
   "metadata": {},
   "outputs": [],
   "source": [
    "device_folder = '0914Th7BM1'\n",
    "spectras_folder = os.path.join(os.getcwd(), device_folder, 'Spectra_data')\n",
    "spectras_names = sorted(os.listdir(spectras_folder))\n",
    "\n",
    "for filename in spectras_names:\n",
    "    if '_RS_' in filename:\n",
    "        actual_spectra = pd.read_excel(os.path.join(spectras_folder, filename), header=2)\n",
    "        actual_spectra = pd.DataFrame.to_numpy(actual_spectra)\n",
    "        try:\n",
    "            spectras_RS\n",
    "        except NameError:\n",
    "            spectras_RS = actual_spectra\n",
    "        else:\n",
    "            spectras_RS = np.dstack((spectras_RS, actual_spectra))\n",
    "\n",
    "    if '_BS_' in filename:\n",
    "        actual_spectra = pd.read_excel(os.path.join(spectras_folder, filename), header=2).to_numpy\n",
    "        try:\n",
    "            spectras_BS\n",
    "        except NameError:\n",
    "            spectras_BS = actual_spectra\n",
    "        else:\n",
    "            spectras_BS = np.dstack((spectras_BS, actual_spectra))\n"
   ]
  },
  {
   "cell_type": "code",
   "execution_count": null,
   "metadata": {},
   "outputs": [
    {
     "ename": "Error",
     "evalue": "Kernel is dead",
     "output_type": "error",
     "traceback": [
      "Error: Kernel is dead",
      "at g._sendKernelShellControl (c:\\Users\\mcasademont\\.vscode\\extensions\\ms-toolsai.jupyter-2021.9.1101343141\\out\\client\\extension.js:52:1006305)",
      "at g.sendShellMessage (c:\\Users\\mcasademont\\.vscode\\extensions\\ms-toolsai.jupyter-2021.9.1101343141\\out\\client\\extension.js:52:1006074)",
      "at g.requestExecute (c:\\Users\\mcasademont\\.vscode\\extensions\\ms-toolsai.jupyter-2021.9.1101343141\\out\\client\\extension.js:52:1008616)",
      "at d.requestExecute (c:\\Users\\mcasademont\\.vscode\\extensions\\ms-toolsai.jupyter-2021.9.1101343141\\out\\client\\extension.js:37:328037)",
      "at S.requestExecute (c:\\Users\\mcasademont\\.vscode\\extensions\\ms-toolsai.jupyter-2021.9.1101343141\\out\\client\\extension.js:32:19306)",
      "at w.executeCodeCell (c:\\Users\\mcasademont\\.vscode\\extensions\\ms-toolsai.jupyter-2021.9.1101343141\\out\\client\\extension.js:52:300924)",
      "at w.execute (c:\\Users\\mcasademont\\.vscode\\extensions\\ms-toolsai.jupyter-2021.9.1101343141\\out\\client\\extension.js:52:300551)",
      "at w.start (c:\\Users\\mcasademont\\.vscode\\extensions\\ms-toolsai.jupyter-2021.9.1101343141\\out\\client\\extension.js:52:296215)",
      "at processTicksAndRejections (internal/process/task_queues.js:93:5)",
      "at async t.CellExecutionQueue.executeQueuedCells (c:\\Users\\mcasademont\\.vscode\\extensions\\ms-toolsai.jupyter-2021.9.1101343141\\out\\client\\extension.js:52:310950)",
      "at async t.CellExecutionQueue.start (c:\\Users\\mcasademont\\.vscode\\extensions\\ms-toolsai.jupyter-2021.9.1101343141\\out\\client\\extension.js:52:310490)"
     ]
    }
   ],
   "source": [
    "\n",
    "\n",
    "for i in range(len(spectras_RS[0,0,:])):\n",
    "    plt.plot(spectras_RS[:,0,i], spectras_RS[:,1,i])\n",
    "    print(i)\n",
    "plt.show()"
   ]
  }
 ],
 "metadata": {
  "interpreter": {
   "hash": "3c6750259a18377ab24b8790f5a9085cc70c2e543c24cf07c43b5662d2b094c9"
  },
  "kernelspec": {
   "display_name": "Python 3.7.11 64-bit ('notebook': conda)",
   "name": "python3"
  },
  "language_info": {
   "codemirror_mode": {
    "name": "ipython",
    "version": 3
   },
   "file_extension": ".py",
   "mimetype": "text/x-python",
   "name": "python",
   "nbconvert_exporter": "python",
   "pygments_lexer": "ipython3",
   "version": "3.7.11"
  },
  "orig_nbformat": 4
 },
 "nbformat": 4,
 "nbformat_minor": 2
}
