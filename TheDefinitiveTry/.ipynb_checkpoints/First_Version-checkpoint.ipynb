{
 "cells": [
  {
   "cell_type": "code",
   "execution_count": 2,
   "metadata": {},
   "outputs": [
    {
     "ename": "ModuleNotFoundError",
     "evalue": "No module named 'matplotlib'",
     "output_type": "error",
     "traceback": [
      "\u001b[0;31m---------------------------------------------------------------------------\u001b[0m",
      "\u001b[0;31mModuleNotFoundError\u001b[0m                       Traceback (most recent call last)",
      "\u001b[0;32m<ipython-input-2-43dbf3e9e171>\u001b[0m in \u001b[0;36m<module>\u001b[0;34m\u001b[0m\n\u001b[1;32m      1\u001b[0m \u001b[0;32mimport\u001b[0m \u001b[0mos\u001b[0m\u001b[0;34m\u001b[0m\u001b[0;34m\u001b[0m\u001b[0m\n\u001b[0;32m----> 2\u001b[0;31m \u001b[0;32mimport\u001b[0m \u001b[0mmatplotlib\u001b[0m\u001b[0;34m.\u001b[0m\u001b[0mpyplot\u001b[0m \u001b[0;32mas\u001b[0m \u001b[0mplt\u001b[0m\u001b[0;34m\u001b[0m\u001b[0;34m\u001b[0m\u001b[0m\n\u001b[0m\u001b[1;32m      3\u001b[0m \u001b[0;32mimport\u001b[0m \u001b[0mnumpy\u001b[0m \u001b[0;32mas\u001b[0m \u001b[0mnp\u001b[0m\u001b[0;34m\u001b[0m\u001b[0;34m\u001b[0m\u001b[0m\n\u001b[1;32m      4\u001b[0m \u001b[0;32mfrom\u001b[0m \u001b[0mscipy\u001b[0m \u001b[0;32mimport\u001b[0m \u001b[0minterpolate\u001b[0m\u001b[0;34m,\u001b[0m \u001b[0mlinalg\u001b[0m\u001b[0;34m,\u001b[0m \u001b[0moptimize\u001b[0m\u001b[0;34m,\u001b[0m \u001b[0msparse\u001b[0m\u001b[0;34m\u001b[0m\u001b[0;34m\u001b[0m\u001b[0m\n\u001b[1;32m      5\u001b[0m \u001b[0;32mimport\u001b[0m \u001b[0mstatistics\u001b[0m\u001b[0;34m\u001b[0m\u001b[0;34m\u001b[0m\u001b[0m\n",
      "\u001b[0;31mModuleNotFoundError\u001b[0m: No module named 'matplotlib'"
     ]
    }
   ],
   "source": [
    "import os\n",
    "import matplotlib.pyplot as plt\n",
    "import numpy as np\n",
    "from scipy import interpolate, linalg, optimize, sparse\n",
    "import statistics\n",
    "import numpy.polynomial\n",
    "import ipywidgets as widgets\n",
    "from IPython.display import display"
   ]
  },
  {
   "cell_type": "markdown",
   "metadata": {},
   "source": [
    "# Defining functions"
   ]
  },
  {
   "cell_type": "markdown",
   "metadata": {},
   "source": [
    "## Basic functions"
   ]
  },
  {
   "cell_type": "code",
   "execution_count": 3,
   "metadata": {},
   "outputs": [],
   "source": [
    "def closest(lst, K):\n",
    "    \n",
    "     lst = np.asarray(lst)\n",
    "     idx = (np.abs(lst - K)).argmin()\n",
    "     return lst[idx]\n",
    "     \n",
    "def closest_indx(lst, K):\n",
    "      \n",
    "     lst = np.asarray(lst)\n",
    "     idx = (np.abs(lst - K)).argmin()\n",
    "     return idx     \n",
    "\n",
    "def smooth(y, box_pts):\n",
    "    box = np.ones(box_pts)/box_pts\n",
    "    y_smooth = np.convolve(y, box, mode='same')\n",
    "    return y_smooth\n",
    "\n",
    "def FD_dist(HWHM, center, wavelengths_to_evaluate, height = 1):\n",
    "    return height*(1/(1+np.exp((center-wavelengths_to_evaluate)/HWHM)))\n",
    "\n",
    "def counts_to_irradiance(flame_data, integration_time, k_filepath):\n",
    "    \n",
    "    k_data = np.loadtxt(k_filepath,skiprows=1) #\n",
    "    irradiance = np.zeros(flame_data.shape)\n",
    "    for i in range(len(irradiance[:,0])):\n",
    "        irradiance[i,0] = flame_data[i,0]\n",
    "        k_data_closest_index = np.where(k_data[:,0] == closest(k_data[:,0],flame_data[i,0]))[0]\n",
    "        irradiance[i,1] = flame_data[i,1]*k_data[k_data_closest_index[0],1]/integration_time\n",
    "        \n",
    "    return irradiance\n"
   ]
  },
  {
   "cell_type": "markdown",
   "metadata": {},
   "source": [
    "## c_matrix related functions"
   ]
  },
  {
   "cell_type": "code",
   "execution_count": 4,
   "metadata": {},
   "outputs": [],
   "source": [
    "def c_matrix_generator(\n",
    "input_spectra_fit,                  #This is the full spectra to generate the c_matrix\n",
    "Red_sweep = True,               #If you want a red sweap, this should be True, if it is False then blue sweep is calculated.\n",
    "Derivative = False,             #If true, the output gives also the derivative of each spectra with respect to the wavelength. \n",
    "Real_data = False,              #If true, we will need to pass the stepf_parameters matrix of the corresponding sweep.\n",
    "stepf_parameters = 0,           #This is a numpy array containing the RScutwl, center, heigth, hwhm and constant of the stepfunction. (RScutwl is the reference cut wavelength that we have, but for the funtion of the stepfunction one takes the realcutwl which shold be the same for a RS but different for a BS)\n",
    "c_matrix_min_wl = 360,          #The minimum wavelength of the c_matrix spectras (and also the resulting EQE). Redomended value 400 because it is the minimum of EQE measures\n",
    "c_matrix_max_wl = 1000,         #The maximum wavelength of the c_matrix spectras (and also the resulting EQE). Recomended value 1000\n",
    "c_matrix_res_wl = 1,            #The wavelength resolution of the c_matrix spectras (and also the resultin EQE)\n",
    "c_matrix_min_cutwl = 400,       #The minimum cuting wavelength of the c_matrix spectras\n",
    "c_matrix_max_cutwl = 810,       #The maximum cutting wavelength of the c_matrix spectras\n",
    "c_matrix_res_cutwl = 10,        #The cutting wavelength spacing of the c_matrix spectras\n",
    "c_matrix_stepf_HWHM = 5        #Define the value of this parameter\n",
    "):\n",
    "    if not Real_data:\n",
    "        full_spectra_irradiance_fit = input_spectra_fit\n",
    "        c_matrix_wl = np.arange(c_matrix_min_wl, c_matrix_max_wl, c_matrix_res_wl)      #These are the wavelengths wherein the c_matrix is evaluated horizontally (its spectras, and therefore the EQE)\n",
    "        c_matrix_cutwl = np.arange(c_matrix_min_cutwl, c_matrix_max_cutwl, c_matrix_res_cutwl)  #There are the wavelengths wehrein the c_matrix is evaluated verticlaly (therefore, the different cutting wavelengths)\n",
    "        c_matrix_RS_motor = np.zeros((len(c_matrix_cutwl), len(c_matrix_wl)))                   #We initialize the red sweep and blue sweep metor matrix\n",
    "        c_matrix_BS_motor = np.zeros((len(c_matrix_cutwl), len(c_matrix_wl)))\n",
    "        c_matrix_full_spectra = np.zeros((len(c_matrix_cutwl), len(c_matrix_wl)))               #And also the matrix containing all the full spectras for its multiplication with the motor matrix\n",
    "        \n",
    "        for i in range(len(c_matrix_full_spectra[:,0])):\n",
    "            c_matrix_RS_motor[i,:] = FD_dist(c_matrix_stepf_HWHM, c_matrix_cutwl[i], c_matrix_wl)       #We define each row of the RS motor matrix with the FD stepfunction distribution\n",
    "            c_matrix_BS_motor[i,:] = FD_dist(-c_matrix_stepf_HWHM, c_matrix_cutwl[i], c_matrix_wl)      #The same for the BS motor, in this case the FWHM has to be negative in order to have the blue part of the spectra\n",
    "            \n",
    "            if Derivative:                                                                          #If the derivative mode is activated\n",
    "                c_matrix_RS_motor_derivative = np.zeros(c_matrix_RS_motor.shape)                    #we also need to initialize both RS and BS motor derivative matrices\n",
    "                c_matrix_BS_motor_derivative = np.zeros(c_matrix_BS_motor.shape)\n",
    "                for i in range(len(c_matrix_full_spectra[:,0])):\n",
    "                    c_matrix_RS_motor_derivative [i,:] = FD_dist(c_matrix_stepf_HWHM, c_matrix_cutwl[i], c_matrix_wl)*(1-FD_dist(c_matrix_stepf_HWHM, c_matrix_cutwl[i], c_matrix_wl))  #And calculate them\n",
    "                    c_matrix_BS_motor_derivative [i,:] = FD_dist(-c_matrix_stepf_HWHM, c_matrix_cutwl[i], c_matrix_wl)*(1-FD_dist(-c_matrix_stepf_HWHM, c_matrix_cutwl[i], c_matrix_wl))\n",
    "\n",
    "        c_matrix_spectra_single = np.zeros(c_matrix_wl.shape)                                           #We also do the same with the c_matrix full spectra previously fited with splines\n",
    "        for j in range(len(c_matrix_wl)):                                                           #But in this case we need to make the average around each c_matrix_wl\n",
    "            actual_wl = c_matrix_wl[j]\n",
    "            actual_spectra_average = statistics.mean(full_spectra_irradiance_fit(np.linspace(actual_wl-(c_matrix_res_wl/2),actual_wl+(c_matrix_res_wl/2), c_matrix_res_wl*10)))\n",
    "            c_matrix_spectra_single[j] = 0.1*actual_spectra_average*c_matrix_res_wl*actual_wl/1240 #Here is the key part. This spectra is the one corresponding to the c_matrix with all the multiplication factors (ie, divided by energy of the photon and multiplyed by Q in order to get the current density)\n",
    "            #The summ of the product between c_matrix_spectra_single and the EQE directly give the Jsc in mA/cm^2 (in thsi case for the full spectra)\n",
    "        for i in range(len(c_matrix_full_spectra[:,0])):\n",
    "            c_matrix_full_spectra [i,:] = c_matrix_spectra_single \n",
    "\n",
    "    if Real_data:\n",
    "        full_spectra_irradiance_fit = input_spectra_fit\n",
    "        c_matrix_wl = np.arange(c_matrix_min_wl, c_matrix_max_wl, c_matrix_res_wl)      #These are the wavelengths wherein the c_matrix is evaluated horizontally (its spectras, and therefore the EQE)\n",
    "        c_matrix_cutwl = stepf_parameters[:,0]                              #There are the wavelengths wehrein the c_matrix is evaluated verticlaly (therefore, the different cutting wavelengths)\n",
    "        c_matrix_motor = np.zeros((len(c_matrix_cutwl), len(c_matrix_wl)))                   #We initialize the red sweep and blue sweep metor matrix. In this case, because the positive/negative information is already presnt in the stepf matrix information, we will define a single motor matrix\n",
    "        c_matrix_full_spectra = np.zeros((len(c_matrix_cutwl), len(c_matrix_wl)))               #And also the matrix containing all the full spectras for its multiplication with the motor matrix\n",
    "        \n",
    "        for i in range(len(c_matrix_full_spectra[:,0])):\n",
    "            actual_RScutwl, actual_cutwl, actual_heigh, actual_hwhm, actual_constant = stepf_parameters[i,:]\n",
    "            c_matrix_motor[i,:] = FD_dist(actual_hwhm, actual_cutwl, c_matrix_wl, height=actual_heigh) + actual_constant      #We define each row of the RS motor matrix with the FD stepfunction distribution\n",
    "        \n",
    "        if Derivative:                                                                          #If the derivative mode is activated\n",
    "            c_matrix_motor_derivative = np.zeros(c_matrix_motor.shape)                    #we also need to initialize both RS and BS motor derivative matrices, which in this case are the same\n",
    "            for i in range(len(c_matrix_full_spectra[:,0])):\n",
    "                actual_RScutwl, actual_cutwl, actual_heigh, actual_hwhm, actual_constant = stepf_parameters[i,:]\n",
    "                #print(actual_heigh)\n",
    "                c_matrix_motor_derivative [i,:] = FD_dist(actual_hwhm, actual_cutwl, c_matrix_wl, height=1)*actual_heigh*(1-FD_dist(actual_hwhm, actual_cutwl, c_matrix_wl, height=1))  #And calculate them\n",
    "                    \n",
    "\n",
    "        c_matrix_BS_motor = c_matrix_motor          #Finally, when the motor matrix is constucted we define the BS and RS motor matrixes as this one, and what we choose initially will return the correct one. \n",
    "        c_matrix_RS_motor = c_matrix_motor\n",
    "        c_matrix_BS_motor_derivative = c_matrix_motor_derivative\n",
    "        c_matrix_RS_motor_derivative = c_matrix_motor_derivative\n",
    "\n",
    "        c_matrix_spectra_single = np.zeros(c_matrix_wl.shape)                                           #We also do the same with the c_matrix full spectra previously fited with splines\n",
    "        for j in range(len(c_matrix_wl)):                                                           #But in this case we need to make the average around each c_matrix_wl\n",
    "            actual_wl = c_matrix_wl[j]\n",
    "            actual_spectra_average = statistics.mean(full_spectra_irradiance_fit(np.linspace(actual_wl-(c_matrix_res_wl/2),actual_wl+(c_matrix_res_wl/2), c_matrix_res_wl*10)))\n",
    "            c_matrix_spectra_single[j] = 0.1*actual_spectra_average*c_matrix_res_wl*actual_wl/1240 #Here is the key part. This spectra is the one corresponding to the c_matrix with all the multiplication factors (ie, divided by energy of the photon and multiplyed by Q in order to get the current density)\n",
    "            #The summ of the product between c_matrix_spectra_single and the EQE directly give the Jsc in mA/cm^2 (in thsi case for the full spectra)\n",
    "        for i in range(len(c_matrix_full_spectra[:,0])):\n",
    "            c_matrix_full_spectra [i,:] = c_matrix_spectra_single \n",
    "\n",
    "    if not Derivative:    #If the derivative option is False, we just return the c_matrix\n",
    "        if Red_sweep:\n",
    "            c_matrix = c_matrix_RS_motor*c_matrix_full_spectra\n",
    "        else:\n",
    "            c_matrix = c_matrix_BS_motor*c_matrix_full_spectra\n",
    "\n",
    "        return (c_matrix, c_matrix_wl, c_matrix_cutwl)\n",
    "    \n",
    "    if Derivative:      #If the derivative option is True, we calculate and return the c_matrix_derivative\n",
    "        if Red_sweep:\n",
    "            c_matrix = c_matrix_RS_motor*c_matrix_full_spectra\n",
    "            c_matrix_derivative = c_matrix_RS_motor_derivative*c_matrix_full_spectra\n",
    "        else:\n",
    "            c_matrix = c_matrix_BS_motor*c_matrix_full_spectra\n",
    "            c_matrix_derivative = c_matrix_BS_motor_derivative*c_matrix_full_spectra\n",
    "\n",
    "        return (c_matrix, c_matrix_derivative, c_matrix_wl, c_matrix_cutwl)\n",
    "\n",
    "#This function takes a c_matrix and makes the derivative of it in the vertical direction (along the cuting wavelength direction)\n",
    "def c_matrix_vertical_derivative (\n",
    "c_matrix,               #The c_matrix in question\n",
    "c_matrix_cutwl,         #The cutting wavelength vector of the c_matrix\n",
    "s_factor=0              #The factor that \n",
    "):\n",
    "    c_matrix_vderivative = np.zeros(c_matrix.shape)\n",
    "    for j in range(len(c_matrix[0,:])):\n",
    "        actual_spl_fit = interpolate.UnivariateSpline(c_matrix_cutwl, c_matrix[:,j], s=s_factor)\n",
    "        c_matrix_vderivative [:,j] = -actual_spl_fit.derivative(n=1)(c_matrix_cutwl)\n",
    "\n",
    "    return c_matrix_vderivative\n",
    "    \n",
    "#This function takes a c_matrix and puts a certain noise to it. \n",
    "def c_matrix_noise_adder(\n",
    "c_matrix_input,             #The c_matrix to put noise\n",
    "percentage):                #The maximum percentage of this noise (the noise added at each poing will be in between +- this percentage to the magnitude at that point)\n",
    "    c_matrix_input_noise = np.zeros(c_matrix_input.shape)\n",
    "    for j in range(len(c_matrix_input[:,0])):\n",
    "        for i in range(len(c_matrix_input[0,:])):\n",
    "            c_matrix_input_noise[j,i] = c_matrix_input[j,i]*(100+percentage*np.random.random_sample())/100\n",
    "    \n",
    "    return c_matrix_input_noise\n",
    "\n",
    "#This function is useful to plot all the spectras of a given c_matrix\n",
    "def c_matrix_plotter(\n",
    "c_matrix,                   #The c_matrix to plot\n",
    "c_matrix_wl,                #The correponding c_matrix wavelength vector\n",
    "legend = False,             #True for plotting the legend\n",
    "concret_spectra = False,    #If you want to plot a concret spectra, just put here a number or a list of numbers\n",
    "plotsize = (14,6)):        #True for plotting the legend\n",
    "    if not concret_spectra:\n",
    "        fig, ax = plt.subplots(figsize=plotsize)\n",
    "        for i in range(len(c_matrix[:,0])):\n",
    "            ax.plot(c_matrix_wl,c_matrix[i,:])\n",
    "        plt.xlabel('Wavelength [nm]')\n",
    "    if concret_spectra:\n",
    "        fig, ax = plt.subplots(figsize=plotsize)\n",
    "        for i in concret_spectra:\n",
    "            ax.plot(c_matrix_wl,c_matrix[i,:], label=str(i))\n",
    "        plt.xlabel('Wavelength [nm]')\n",
    "        plt.legend()"
   ]
  },
  {
   "cell_type": "markdown",
   "metadata": {},
   "source": [
    "## Jsc calculation related functions"
   ]
  },
  {
   "cell_type": "code",
   "execution_count": 5,
   "metadata": {},
   "outputs": [],
   "source": [
    "#This function is used to calculate the Jsc\n",
    "def Jsc_calculator(\n",
    "full_spectra_irradiance,        #The full spectra irradiance imput\n",
    "wl_resolution,                  #The wavelenegth resolution of the calculations\n",
    "real_EQE_interp,                #The interpolation function of the measured EQE\n",
    "noise_percentage = 0            #The noise percentage added to the Jsc curve\n",
    "):\n",
    "    calculated_Jsc_c_matrix_RS, calculated_Jsc_c_matrix_wl_RS, calculated_Jsc_c_matrix_cutwl_RS = c_matrix_generator(full_spectra_irradiance, Red_sweep=True, Derivative = False, c_matrix_res_wl=wl_resolution)\n",
    "    calculated_Jsc_c_matrix_BS, calculated_Jsc_c_matrix_wl_BS, calculated_Jsc_c_matrix_cutwl_BS = c_matrix_generator(full_spectra_irradiance, Red_sweep=False, Derivative = False, c_matrix_res_wl=wl_resolution)\n",
    "    calculated_Jsc_RS = np.zeros(len(calculated_Jsc_c_matrix_RS[:,0]))\n",
    "    calculated_Jsc_BS = np.zeros(len(calculated_Jsc_c_matrix_BS[:,0]))\n",
    "    for i in range(len(calculated_Jsc_c_matrix_RS[:,0])):\n",
    "        calculated_Jsc_RS[i] = sum(calculated_Jsc_c_matrix_RS[i,:]*real_EQE_interp(calculated_Jsc_c_matrix_wl))\n",
    "        calculated_Jsc_RS[i] = calculated_Jsc_RS[i]*(100+noise_percentage*np.random.random_sample())\n",
    "        calculated_Jsc_BS[i] = sum(calculated_Jsc_c_matrix_BS[i,:]*real_EQE_interp(calculated_Jsc_c_matrix_wl))\n",
    "        calculated_Jsc_BS[i] = calculated_Jsc_BS[i]*(100+noise_percentage*np.random.random_sample())\n",
    "    return calculated_Jsc_RS, calculated_Jsc_BS, calculated_Jsc_c_matrix_cutwl_RS, calculated_Jsc_c_matrix_cutwl_BS "
   ]
  },
  {
   "cell_type": "markdown",
   "metadata": {},
   "source": [
    "# Importing data"
   ]
  },
  {
   "cell_type": "markdown",
   "metadata": {},
   "source": [
    "## Import rainbow measurements"
   ]
  },
  {
   "cell_type": "code",
   "execution_count": 6,
   "metadata": {},
   "outputs": [
    {
     "name": "stdout",
     "output_type": "stream",
     "text": [
      "Red Sweep rainbow data found: Device PM6_IO-4Cl_RS\n"
     ]
    },
    {
     "ename": "NameError",
     "evalue": "name 'np' is not defined",
     "output_type": "error",
     "traceback": [
      "\u001b[0;31m---------------------------------------------------------------------------\u001b[0m",
      "\u001b[0;31mNameError\u001b[0m                                 Traceback (most recent call last)",
      "\u001b[0;32m<ipython-input-6-becdd236f8c7>\u001b[0m in \u001b[0;36m<module>\u001b[0;34m\u001b[0m\n\u001b[1;32m     33\u001b[0m             \u001b[0;32mfor\u001b[0m \u001b[0mentry\u001b[0m \u001b[0;32min\u001b[0m \u001b[0mos\u001b[0m\u001b[0;34m.\u001b[0m\u001b[0mscandir\u001b[0m\u001b[0;34m(\u001b[0m\u001b[0mos\u001b[0m\u001b[0;34m.\u001b[0m\u001b[0mpath\u001b[0m\u001b[0;34m.\u001b[0m\u001b[0mjoin\u001b[0m\u001b[0;34m(\u001b[0m\u001b[0mdevice_foldername_RS_path\u001b[0m\u001b[0;34m,\u001b[0m \u001b[0mcellname\u001b[0m\u001b[0;34m)\u001b[0m\u001b[0;34m)\u001b[0m\u001b[0;34m:\u001b[0m  \u001b[0;31m#search for all the entries inside the cellname path\u001b[0m\u001b[0;34m\u001b[0m\u001b[0;34m\u001b[0m\u001b[0m\n\u001b[1;32m     34\u001b[0m                 \u001b[0;32mif\u001b[0m \u001b[0mentry\u001b[0m\u001b[0;34m.\u001b[0m\u001b[0mis_file\u001b[0m\u001b[0;34m(\u001b[0m\u001b[0mfollow_symlinks\u001b[0m\u001b[0;34m=\u001b[0m\u001b[0;32mFalse\u001b[0m\u001b[0;34m)\u001b[0m\u001b[0;34m:\u001b[0m \u001b[0;31m#and reads only the one that is a file (therfore, the txt of the rainbow measurement)\u001b[0m\u001b[0;34m\u001b[0m\u001b[0;34m\u001b[0m\u001b[0m\n\u001b[0;32m---> 35\u001b[0;31m                     \u001b[0mactual_data\u001b[0m \u001b[0;34m=\u001b[0m \u001b[0mnp\u001b[0m\u001b[0;34m.\u001b[0m\u001b[0mloadtxt\u001b[0m\u001b[0;34m(\u001b[0m\u001b[0mos\u001b[0m\u001b[0;34m.\u001b[0m\u001b[0mpath\u001b[0m\u001b[0;34m.\u001b[0m\u001b[0mjoin\u001b[0m\u001b[0;34m(\u001b[0m\u001b[0mdevice_foldername_RS_path\u001b[0m\u001b[0;34m,\u001b[0m \u001b[0mcellname\u001b[0m\u001b[0;34m,\u001b[0m \u001b[0mentry\u001b[0m\u001b[0;34m.\u001b[0m\u001b[0mname\u001b[0m\u001b[0;34m)\u001b[0m\u001b[0;34m,\u001b[0m\u001b[0mskiprows\u001b[0m\u001b[0;34m=\u001b[0m\u001b[0;36m1\u001b[0m\u001b[0;34m)\u001b[0m \u001b[0;31m#and load the corresponding measuring file\u001b[0m\u001b[0;34m\u001b[0m\u001b[0;34m\u001b[0m\u001b[0m\n\u001b[0m\u001b[1;32m     36\u001b[0m                     \u001b[0mactual_data\u001b[0m \u001b[0;34m=\u001b[0m \u001b[0mactual_data\u001b[0m\u001b[0;34m[\u001b[0m\u001b[0mactual_data\u001b[0m\u001b[0;34m[\u001b[0m\u001b[0;34m:\u001b[0m\u001b[0;34m,\u001b[0m \u001b[0;36m0\u001b[0m\u001b[0;34m]\u001b[0m\u001b[0;34m.\u001b[0m\u001b[0margsort\u001b[0m\u001b[0;34m(\u001b[0m\u001b[0;34m)\u001b[0m\u001b[0;34m]\u001b[0m \u001b[0;31m#sort the loaded data with the cut wl (first column) to avoid problems with red/blue & opening/closing sweeps.\u001b[0m\u001b[0;34m\u001b[0m\u001b[0;34m\u001b[0m\u001b[0m\n\u001b[1;32m     37\u001b[0m                     \u001b[0;31m#And finally store the loaded data in the measure_megaarray:\u001b[0m\u001b[0;34m\u001b[0m\u001b[0;34m\u001b[0m\u001b[0;34m\u001b[0m\u001b[0m\n",
      "\u001b[0;31mNameError\u001b[0m: name 'np' is not defined"
     ]
    }
   ],
   "source": [
    "# In this section we will import all the rainbow measurements of\n",
    "# a certain device folder and search for the red and blue sweep if they are available.\n",
    "\n",
    "device_foldername = 'PM6_IO-4Cl'   # First of all name the device folder name:\n",
    "\n",
    "device_foldername_list = os.listdir(os.path.join(os.getcwd(), 'RainbowMeasures'))\n",
    "\n",
    "device_foldername_found = any(device_foldername in sub for sub in device_foldername_list)  #We check if the device_foldername is present in any of the folders inside the RainbowMeausres folder\n",
    "\n",
    "if not device_foldername_found:  #And in case it is not present, we send a message for checking again the device_foldername input\n",
    "    print('Ooops, it seems that the device ' + device_foldername + ' is not found in the RainbowMeasures folder. Check again your device_foldername input!! :)')\n",
    "\n",
    "if device_foldername_found:  #In case we found a match between device_foldername and device_foldername list we will proceed to extract the data\n",
    "    device_foldername_found = [s for s in device_foldername_list if device_foldername in s] #For that we make a list with the names of all the device_foldernames that cointains our imput name\n",
    "    \n",
    "    #And start checking if any of those contains '_RS' indicating a red sweep rainbow data\n",
    "    device_foldername_RS = any(device_foldername in sub for sub in device_foldername_list)  \n",
    "    if not device_foldername_RS:    #In case there is no '_RS' folder we print a message\n",
    "        print('No Red Sweep rainbow data found for '+device_foldername)\n",
    "\n",
    "    if device_foldername_RS: #In case we find a match, we get the name of the concret folder in the device_foldername_RS variable\n",
    "        device_foldername_RS = [s for s in device_foldername_found if '_RS' in s][0]\n",
    "        print('Red Sweep rainbow data found: '+ device_foldername_RS)\n",
    "        device_foldername_RS_path = os.path.join(os.getcwd(),'RainbowMeasures',device_foldername_RS,'TXT Files')\n",
    "\n",
    "        RS_cellname = list()       #We initialize a list to save all the cellnames of the red sweep\n",
    "        for entry in os.scandir(device_foldername_RS_path):  #search for all the entries inside the device_foldername_RS/TXT Files path\n",
    "            if entry.is_dir:        #In case the entry is a directory (a folder and not a file)\n",
    "                RS_cellname.append(entry.name)     #append it to the list\n",
    "        RS_cellname.sort()     #finally sort the list for having the same order in the blue and red sweep\n",
    "        \n",
    "        for cellname in RS_cellname:\n",
    "            for entry in os.scandir(os.path.join(device_foldername_RS_path, cellname)):  #search for all the entries inside the cellname path\n",
    "                if entry.is_file(follow_symlinks=False): #and reads only the one that is a file (therfore, the txt of the rainbow measurement)\n",
    "                    actual_data = np.loadtxt(os.path.join(device_foldername_RS_path, cellname, entry.name),skiprows=1) #and load the corresponding measuring file\n",
    "                    actual_data = actual_data[actual_data[:, 0].argsort()] #sort the loaded data with the cut wl (first column) to avoid problems with red/blue & opening/closing sweeps.\n",
    "                    #And finally store the loaded data in the measure_megaarray:\n",
    "                    try:                            #Check if the array already exist\n",
    "                        measure_megaarray\n",
    "                    except NameError:               #In case not, define it as the loaded data             \n",
    "                        measure_megaarray = actual_data\n",
    "                    else:                           #And deep-stack the loaded data in case the megaarray exist \n",
    "                        measure_megaarray = np.dstack((measure_megaarray, actual_data))\n",
    "\n",
    "        RS_measure_megaarray = measure_megaarray     #store the loaded megarray in a RS megaarray variable\n",
    "        print('Red Sweep rainbow data properly loaded :)')\n",
    "        del measure_megaarray        #and kill the measure_megaarray to avoid problems with multiple runings of this cell\n",
    "        \n",
    "\n",
    "    #We proceed equally with the Blue Sweep rainbow data ('_BS' string).\n",
    "    device_foldername_BS = any(device_foldername in sub for sub in device_foldername_list)  \n",
    "    if not device_foldername_BS:    #In case there is no '_RS' folder we print a message\n",
    "        print('No Red Sweep rainbow data found for '+device_foldername)\n",
    "\n",
    "    if device_foldername_BS: #In case we find a match, we get the name of the concret folder in the device_foldername_RS variable\n",
    "        device_foldername_BS = [s for s in device_foldername_found if '_BS' in s][0]\n",
    "        print('Blue Sweep rainbow data found: '+ device_foldername_BS)\n",
    "        device_foldername_BS_path = os.path.join(os.getcwd(),'RainbowMeasures',device_foldername_BS,'TXT Files')\n",
    "\n",
    "        BS_cellname = list()       #We initialize a list to save all the cellnames of the red sweep\n",
    "        for entry in os.scandir(device_foldername_BS_path):  #search for all the entries inside the device_foldername_RS/TXT Files path\n",
    "            if entry.is_dir:        #In case the entry is a directory (a folder and not a file)\n",
    "                BS_cellname.append(entry.name)     #append it to the list\n",
    "        BS_cellname.sort()     #finally sort the list for having the same order in the blue and red sweeps\n",
    "        \n",
    "        for cellname in BS_cellname:\n",
    "            for entry in os.scandir(os.path.join(device_foldername_BS_path, cellname)):  #search for all the entries inside the cellname path\n",
    "                if entry.is_file(follow_symlinks=False): #and reads only the one that is a file (therfore, the txt of the rainbow measurement)\n",
    "                    actual_data = np.loadtxt(os.path.join(device_foldername_BS_path, cellname, entry.name),skiprows=1) #and load the corresponding measuring file\n",
    "                    actual_data = actual_data[actual_data[:, 0].argsort()] #sort the loaded data with the cut wl (first column) to avoid problems with red/blue & opening/closing sweeps.\n",
    "                    #And finally store the loaded data in the measure_megaarray:\n",
    "                    try:                            #Check if the array already exist\n",
    "                        measure_megaarray\n",
    "                    except NameError:               #In case not, define it as the loaded data             \n",
    "                        measure_megaarray = actual_data\n",
    "                    else:                           #And deep-stack the loaded data in case the megaarray exist \n",
    "                        measure_megaarray = np.dstack((measure_megaarray, actual_data))\n",
    "\n",
    "        BS_measure_megaarray = measure_megaarray     #store the loaded megarray in a BS megaarray variable\n",
    "        print('Blue Sweep rainbow data properly loaded :)')\n",
    "        del measure_megaarray        #and kill the measure_megaarray to avoid problems with multiple runings of this cell\n",
    "    "
   ]
  },
  {
   "cell_type": "code",
   "execution_count": 3,
   "metadata": {},
   "outputs": [],
   "source": [
    "def rainbow_data_ploter(cell_name = 1):\n",
    "    #indx = [i for i, s in enumerate(RS_cellname) if cell_name in s][0]\n",
    "    #print(indx)\n",
    "    indx=cell_name\n",
    "    \n",
    "    plt.plot(RS_measure_megaarray[:,0,indx], RS_measure_megaarray[:,2,indx])"
   ]
  },
  {
   "cell_type": "code",
   "execution_count": 5,
   "metadata": {},
   "outputs": [
    {
     "data": {
      "application/vnd.jupyter.widget-view+json": {
       "model_id": "0580b71c0370463bbcf55e7b3db9a3ce",
       "version_major": 2,
       "version_minor": 0
      },
      "text/plain": [
       "IntSlider(value=0)"
      ]
     },
     "metadata": {},
     "output_type": "display_data"
    }
   ],
   "source": [
    "widgets.IntSlider()"
   ]
  },
  {
   "cell_type": "code",
   "execution_count": 4,
   "metadata": {},
   "outputs": [
    {
     "data": {
      "image/png": "[encoded data removed]",
      "text/plain": [
       "<Figure size 432x288 with 1 Axes>"
      ]
     },
     "metadata": {
      "needs_background": "light"
     },
     "output_type": "display_data"
    },
    {
     "data": {
      "text/plain": [
       "<function __main__.rainbow_data_ploter(cell_name=1)>"
      ]
     },
     "execution_count": 4,
     "metadata": {},
     "output_type": "execute_result"
    }
   ],
   "source": [
    "widgets.interact(rainbow_data_ploter, cell_name = [0,1,2,3])"
   ]
  }
 ],
 "metadata": {
  "interpreter": {
   "hash": "916dbcbb3f70747c44a77c7bcd40155683ae19c65e1c03b4aa3499c5328201f1"
  },
  "kernelspec": {
   "display_name": "Python 3",
   "language": "python",
   "name": "python3"
  },
  "language_info": {
   "codemirror_mode": {
    "name": "ipython",
    "version": 3
   },
   "file_extension": ".py",
   "mimetype": "text/x-python",
   "name": "python",
   "nbconvert_exporter": "python",
   "pygments_lexer": "ipython3",
   "version": "3.7.3"
  }
 },
 "nbformat": 4,
 "nbformat_minor": 2
}
