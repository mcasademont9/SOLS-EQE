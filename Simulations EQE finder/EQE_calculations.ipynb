{
    "cells": [
        {
            "cell_type": "code",
            "execution_count": 2,
            "source": [
                "import Text_Importer as txtImp                                              # We import the necessary libraries and other scripts from the same project\r\n",
                "from tkinter import filedialog\r\n",
                "import os\r\n",
                "import matplotlib.pyplot as plt\r\n",
                "import matplotlib.gridspec as gridspec\r\n",
                "import JV_Parameters_From_JV_Curve as JV_Par                                                    # First we import all the necessary scripts that we will need\r\n",
                "import EQE_To_Jsc_Integrator as EtJ\r\n",
                "import Jsc_From_EQE as JfE\r\n",
                "import Small_Functions as sf\r\n",
                "from statistics import mean\r\n",
                "import Bgap_Finder as BgF\r\n",
                "import numpy as np\r\n",
                "import Active_layer_Classes as AlC\r\n"
            ],
            "outputs": [],
            "metadata": {}
        },
        {
            "cell_type": "code",
            "execution_count": 3,
            "source": [
                "\r\n",
                "if __name__ == '__main__':\r\n",
                "\r\n",
                "    # First we prompt the user to locate the file directory where all the JV and EQE files are located. Note that they must be named with a given convention. Material names for JV curve and EQE curve of the same material must be identical and the only difference\r\n",
                "    # between these two files is that one must end with a _JV string and the other with an _EQE string.\r\n",
                "    #File_Directory = filedialog.askdirectory(title='Select the directory with the EQE curves, Jv curves and solar data files', initialdir=os.getcwd(), mustexist=True)  # Ask for the directory where all the EQE and JV curve files are\r\n",
                "    #print(File_Directory)\r\n",
                "    File_Directory = 'C:/Users/mcasademont/Desktop/ENRIQUE P3HT data for rainbow analysis/ENRIQUE P3HT data for rainbow analysis'\r\n",
                "    Available_files = os.listdir(File_Directory)                                                                                                                        # Save the available files within a list\r\n",
                "    # print(*Available_files,sep='\\n')                                                              # Print the available filenames for debugging purposes\r\n",
                "\r\n",
                "    # We create a directory within the folder that has the curves where the figures will be saved\r\n",
                "    Save_Directory = sf.Full_path_adder('Binary comparison figures', File_Directory)\r\n",
                "    if not os.path.exists(Save_Directory):\r\n",
                "        os.mkdir(Save_Directory)\r\n",
                "\r\n",
                "    Active_layers = list()                                                                          # We initialize a list that will hold all the Active_layer classes\r\n",
                "\r\n",
                "    # First we search for the solar irradiance spectrum file:\r\n",
                "    Solar_data_found = False                                                                        # We set a flag so that if we do not find the solar data file we stop the whole process and raise an error\r\n",
                "    for file in Available_files:\r\n",
                "        # We loop through the files searching for the solar data file and save its data within the Solar_Data variable\r\n",
                "        # The solar data file has to have the word Solar with the first letter capitalized to be acceptable\r\n",
                "        if 'Solar' in file:                                                               # if the current file contains the word solar , we store the solar data it contains in the variable solar data\r\n",
                "            Solar_Data = txtImp.import_txt(sf.Full_path_adder(file,File_Directory))         # We store the imported solar data on the Solar_Data variable\r\n",
                "            Solar_data_found = True\r\n",
                "\r\n",
                "    # If the solar data has not been found we raise an error\r\n",
                "    if not Solar_data_found:\r\n",
                "        raise Exception('The solar data has not been found, aborting process')\r\n",
                "\r\n",
                "\r\n",
                "    # Here we loop through all the available files searching for the files that contain the substrings we are searching for. In this case we are searching for _JV and _EQE\r\n",
                "    # The files have to end in _JV or in _EQE to be acceptable and if they are the same active layer material they should have exactly the same name except on the _JV or _EQE ending\r\n",
                "    # IMPORTANT WARNING!!!! All materials that want to be processed need both a JV curve and an EQE file, otherwise they will be discarded\r\n",
                "    for JV_file in Available_files:                                                            # We first loop through the available files in search for the JV_files\r\n",
                "        if '_JV' in JV_file:                                                                        # If the file has the string _JV within its name it means it is a JV curve\r\n",
                "            Material_name = JV_file.split('_JV', 1)[0]                                              # We extract the material_name by splitting the filename string and extracting the first column from the resulting list\r\n",
                "\r\n",
                "            for EQE_file in Available_files:                                                        # Now we loop again through the files in search for its EQE file equivalent\r\n",
                "\r\n",
                "                # if the file has the substring _EQE and the material name within the filename it means it's a match and we proceed to extract the data from both files\r\n",
                "                if '_EQE' in EQE_file and Material_name in EQE_file:\r\n",
                "\r\n",
                "                    # We extract the EQE curve values and the JV curve values and we store then in an Active_layer class that will be appended to the Active_layers list\r\n",
                "                    EQE_curve = txtImp.import_txt(sf.Full_path_adder(EQE_file,File_Directory))      # We, momentarily, store the EQE_curve imported values within the EQE_curve variable\r\n",
                "                    JV_curve = txtImp.import_txt(sf.Full_path_adder(JV_file, File_Directory))       # We, momentarily, store the JV_curve imported values within the JV_curve variable\r\n",
                "                    Active_layers.append(AlC.Active_layer(Material_name, JV_curve, EQE_curve,Solar_Data))          # We append the Active_layer class with the current EQE_curve and JV_curve information as well as the material name within the Active_layers list\r\n",
                "\r\n",
                "\r\n",
                "    Material_pairs = [[None for y in range(len(Active_layers))] for x in range(len(Active_layers))]         # We now create a 2D list that will hold the Active_layer_pair classes for each Active_layer material combination possible\r\n",
                "    Total_figures = len(Active_layers)*len(Active_layers)-len(Active_layers)                                # We calculate the total number of figures that will be generated\r\n",
                "    Saved_figures = 0                                                                                       # We also initialize a counter to keep track of the progress\r\n",
                "    Timer_1 = sf.Timer()                                                                         # And finally we start a timer that will tell us the approximate time estimate and completion percentage\r\n",
                "\r\n",
                "    for index_1, Active_layer_1 in enumerate(Active_layers):                                                # We loop through each available material\r\n",
                "        for index_2, Active_layer_2 in enumerate(Active_layers):                                            # And for each available material we loop again comparing it to all the other available materials\r\n",
                "            if index_1 == index_2:                                                                          # If the indexes are the same it means they are the same active material combination so we 'pass' and do not compare them\r\n",
                "                pass\r\n",
                "            else:                                                                                           # If, otherwise the two indices are not the same we proceed to compare them and plot them\r\n",
                "                Material_pairs[index_1][index_2] = AlC.Active_layer_Pair(Active_layer_1,Active_layer_2,Solar_Data)      # We store the current material combination within the Material_pairs list as n Active_layer_pair class with the active layers to compare as attributes, and of course the solar data\r\n"
            ],
            "outputs": [],
            "metadata": {}
        },
        {
            "cell_type": "code",
            "execution_count": 10,
            "source": [
                "\r\n",
                "#Now that we have all the data of the different pairs stored in Material_pairs we can start culating the EQE. As a first aproximation, we will say that the derivative of Jsc\r\n",
                "#with respect to the cutting wavelength is equal to the EQE at the cutting wavelength multiplied by the solar irradiance at that wavelength. \r\n",
                "\r\n",
                "index_1 = 1\r\n",
                "index_2 = 2\r\n",
                "Jsc_divWL_slope = np.gradient(np.array(Material_pairs[index_1][index_2].Jsc_Dividing_wavelength_graph_1))\r\n",
                "Solar_data_nparray = np.array(Solar_Data)\r\n",
                "EQE_calculated = np.zeros((len(Jsc_divWL_slope)))\r\n",
                "wl_list = np.array(Material_pairs[index_1][index_2].Dividing_wavelength_list)\r\n",
                "for i in range(len(Jsc_divWL_slope)):\r\n",
                "    actual_wavelength = wl_list[i]\r\n",
                "    EQE_calculated[i] = 0.8 * Jsc_divWL_slope[i]/Solar_data_nparray[2*i,1]\r\n",
                "\r\n",
                "plt.plot(EQE_calculated)\r\n",
                "plt.xlim(0,100)\r\n",
                "plt.ylim(0,100)\r\n",
                "plt.show"
            ],
            "outputs": [
                {
                    "output_type": "execute_result",
                    "data": {
                        "text/plain": [
                            "<function matplotlib.pyplot.show(close=None, block=None)>"
                        ]
                    },
                    "metadata": {},
                    "execution_count": 10
                },
                {
                    "output_type": "display_data",
                    "data": {
                        "image/png": "[encoded data removed]",
                        "text/plain": [
                            "<Figure size 432x288 with 1 Axes>"
                        ]
                    },
                    "metadata": {
                        "needs_background": "light"
                    }
                }
            ],
            "metadata": {}
        },
        {
            "cell_type": "code",
            "execution_count": 10,
            "source": [
                "print(Solar_data_nparray)"
            ],
            "outputs": [
                {
                    "output_type": "stream",
                    "name": "stdout",
                    "text": [
                        "[[2.800e+02 2.540e-26]\n",
                        " [2.805e+02 1.090e-24]\n",
                        " [2.810e+02 6.130e-24]\n",
                        " ...\n",
                        " [3.990e+03 7.390e-03]\n",
                        " [3.995e+03 7.230e-03]\n",
                        " [4.000e+03 7.120e-03]]\n"
                    ]
                }
            ],
            "metadata": {}
        }
    ],
    "metadata": {
        "orig_nbformat": 4,
        "language_info": {
            "name": "python",
            "version": "3.9.2",
            "mimetype": "text/x-python",
            "codemirror_mode": {
                "name": "ipython",
                "version": 3
            },
            "pygments_lexer": "ipython3",
            "nbconvert_exporter": "python",
            "file_extension": ".py"
        },
        "kernelspec": {
            "name": "python3",
            "display_name": "Python 3.9.2 64-bit"
        },
        "interpreter": {
            "hash": "06708d4bca481e43fd1fa66b69cf075b37332e44aba2e39dc0218f03c8cda479"
        }
    },
    "nbformat": 4,
    "nbformat_minor": 2
}